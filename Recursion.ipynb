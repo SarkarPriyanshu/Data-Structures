{
  "nbformat": 4,
  "nbformat_minor": 0,
  "metadata": {
    "colab": {
      "provenance": [],
      "authorship_tag": "ABX9TyNNJlsXC/CQLi7V63oTgUGK",
      "include_colab_link": true
    },
    "kernelspec": {
      "name": "python3",
      "display_name": "Python 3"
    },
    "language_info": {
      "name": "python"
    }
  },
  "cells": [
    {
      "cell_type": "markdown",
      "metadata": {
        "id": "view-in-github",
        "colab_type": "text"
      },
      "source": [
        "<a href=\"https://colab.research.google.com/github/SarkarPriyanshu/Data-Structures/blob/main/Recursion.ipynb\" target=\"_parent\"><img src=\"https://colab.research.google.com/assets/colab-badge.svg\" alt=\"Open In Colab\"/></a>"
      ]
    },
    {
      "cell_type": "markdown",
      "source": [
        "# Recursion \n",
        "  - Make decision and input automatically get small\n",
        "  - Approch\n",
        "    - IO/OP Method (for medium)\n",
        "    - Base condition induction hypothesis (IBH for easy)\n",
        "    - choose diagram (for hard)   "
      ],
      "metadata": {
        "id": "J8phtHcatg5P"
      }
    },
    {
      "cell_type": "markdown",
      "source": [
        "Print 1 to n numbers using recursion (Easy)"
      ],
      "metadata": {
        "id": "n6JeibA4uw4V"
      }
    },
    {
      "cell_type": "code",
      "execution_count": 87,
      "metadata": {
        "id": "Mb0bwGpJst8F"
      },
      "outputs": [],
      "source": [
        "def printUptoN(number):\n",
        "  if number == 1: return number\n",
        "  print(number)\n",
        "  return printUptoN(number-1) "
      ]
    },
    {
      "cell_type": "code",
      "source": [
        "printUptoN(10)"
      ],
      "metadata": {
        "colab": {
          "base_uri": "https://localhost:8080/"
        },
        "id": "Oer6NZpnvX7I",
        "outputId": "3d717853-3bf1-484c-dbdf-067d98639864"
      },
      "execution_count": 88,
      "outputs": [
        {
          "output_type": "stream",
          "name": "stdout",
          "text": [
            "10\n",
            "9\n",
            "8\n",
            "7\n",
            "6\n",
            "5\n",
            "4\n",
            "3\n",
            "2\n"
          ]
        },
        {
          "output_type": "execute_result",
          "data": {
            "text/plain": [
              "1"
            ]
          },
          "metadata": {},
          "execution_count": 88
        }
      ]
    },
    {
      "cell_type": "markdown",
      "source": [
        "apply binary search using recursion"
      ],
      "metadata": {
        "id": "1nKeeWV-yFpQ"
      }
    },
    {
      "cell_type": "code",
      "source": [
        "arr = [1,3,4,6,7,9,12,15,18,21]"
      ],
      "metadata": {
        "id": "f7IbBbpZyL24"
      },
      "execution_count": 89,
      "outputs": []
    },
    {
      "cell_type": "code",
      "source": [
        "def binarySearchRecursion(arr,value):\n",
        "  \n",
        "  start = 0\n",
        "  end = len(arr)-1\n",
        "  mid = start + (end-start)//2\n",
        "  print(arr,start,end,mid,arr[mid],value, arr[mid] == value)\n",
        "  if arr[mid] == value:\n",
        "    return mid\n",
        "  elif arr[mid] >= value:\n",
        "    binarySearchRecursion(arr[:mid-1],value)\n",
        "  elif arr[mid] <= value:\n",
        "     binarySearchRecursion(arr[mid+1:],value)\n",
        "  else:\n",
        "    return -1      "
      ],
      "metadata": {
        "id": "XP6lqQCtyRcY"
      },
      "execution_count": 90,
      "outputs": []
    },
    {
      "cell_type": "code",
      "source": [
        "binarySearchRecursion(arr,18)"
      ],
      "metadata": {
        "colab": {
          "base_uri": "https://localhost:8080/"
        },
        "id": "jolhRa380Zgq",
        "outputId": "b4724ac0-c8f2-482a-a031-61d733f39846"
      },
      "execution_count": 91,
      "outputs": [
        {
          "output_type": "stream",
          "name": "stdout",
          "text": [
            "[1, 3, 4, 6, 7, 9, 12, 15, 18, 21] 0 9 4 7 18 False\n",
            "[9, 12, 15, 18, 21] 0 4 2 15 18 False\n",
            "[18, 21] 0 1 0 18 18 True\n"
          ]
        }
      ]
    },
    {
      "cell_type": "markdown",
      "source": [
        "Create Binary Tree using recursion"
      ],
      "metadata": {
        "id": "QIn7W4gX4Gw3"
      }
    },
    {
      "cell_type": "code",
      "source": [
        "class Node:\n",
        "  def __init__(self,key):\n",
        "    self.key = key\n",
        "    self.left = None\n",
        "    self.right = None\n"
      ],
      "metadata": {
        "id": "1dZf5Wp24SBq"
      },
      "execution_count": 115,
      "outputs": []
    },
    {
      "cell_type": "code",
      "source": [
        "Node1 = Node(5)"
      ],
      "metadata": {
        "id": "uo6V1OEU4jGp"
      },
      "execution_count": 93,
      "outputs": []
    },
    {
      "cell_type": "code",
      "source": [
        "Node2 = Node(4)"
      ],
      "metadata": {
        "id": "m3fW6DD74pgg"
      },
      "execution_count": 94,
      "outputs": []
    },
    {
      "cell_type": "code",
      "source": [
        "Node3 = Node(3)"
      ],
      "metadata": {
        "id": "fSW90DvS4s4_"
      },
      "execution_count": 95,
      "outputs": []
    },
    {
      "cell_type": "code",
      "source": [
        "Node1.leftNode = Node2"
      ],
      "metadata": {
        "id": "Mt1gSTxN4wQy"
      },
      "execution_count": 96,
      "outputs": []
    },
    {
      "cell_type": "code",
      "source": [
        "Node2.leftNode = Node3"
      ],
      "metadata": {
        "id": "q-QB2uB642Kx"
      },
      "execution_count": 97,
      "outputs": []
    },
    {
      "cell_type": "code",
      "source": [
        "tree = ((None,1,None),2,(3,4,5))"
      ],
      "metadata": {
        "id": "JcM19HoP47vx"
      },
      "execution_count": 103,
      "outputs": []
    },
    {
      "cell_type": "code",
      "source": [
        "len(tree[0]),tree[1]"
      ],
      "metadata": {
        "colab": {
          "base_uri": "https://localhost:8080/"
        },
        "id": "LUUzqIVA6CKP",
        "outputId": "4b4aefa3-b16d-462c-a638-abd66c66c4bc"
      },
      "execution_count": 104,
      "outputs": [
        {
          "output_type": "execute_result",
          "data": {
            "text/plain": [
              "(3, 2)"
            ]
          },
          "metadata": {},
          "execution_count": 104
        }
      ]
    },
    {
      "cell_type": "code",
      "source": [
        "def createTree(tree):\n",
        "  if isinstance(tree, tuple) and len(tree) == 3:\n",
        "        node = Node(tree[1])\n",
        "        node.left = createTree(tree[0])\n",
        "        node.right = createTree(tree[2])\n",
        "  elif tree is None:\n",
        "        node = None\n",
        "  else:\n",
        "        node = Node(tree)\n",
        "  return node\n"
      ],
      "metadata": {
        "id": "-yGhQhun5VOx"
      },
      "execution_count": 116,
      "outputs": []
    },
    {
      "cell_type": "code",
      "source": [
        "Tree = createTree(((1,3,None), 2, ((None, 3, 4), 5, (6, 7, 8))))"
      ],
      "metadata": {
        "id": "S5WvSRBO6ZWC"
      },
      "execution_count": 117,
      "outputs": []
    },
    {
      "cell_type": "markdown",
      "source": [
        "Find the height of the tree"
      ],
      "metadata": {
        "id": "pVyLBC0r-9O7"
      }
    },
    {
      "cell_type": "code",
      "source": [
        "def tree_height(node):\n",
        "    if node is None:\n",
        "        return 0\n",
        "    return 1 + max(tree_height(node.left), tree_height(node.right))"
      ],
      "metadata": {
        "id": "kaV_59qS7TSg"
      },
      "execution_count": 120,
      "outputs": []
    },
    {
      "cell_type": "code",
      "source": [
        "tree_height(Tree)"
      ],
      "metadata": {
        "colab": {
          "base_uri": "https://localhost:8080/"
        },
        "id": "XWKV1tsm_zxr",
        "outputId": "6ad8a5b8-f3ae-4d91-a545-a3646303a958"
      },
      "execution_count": 121,
      "outputs": [
        {
          "output_type": "execute_result",
          "data": {
            "text/plain": [
              "4"
            ]
          },
          "metadata": {},
          "execution_count": 121
        }
      ]
    }
  ]
}