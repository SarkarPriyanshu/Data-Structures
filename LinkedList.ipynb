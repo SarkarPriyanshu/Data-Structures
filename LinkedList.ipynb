{
  "nbformat": 4,
  "nbformat_minor": 0,
  "metadata": {
    "colab": {
      "provenance": [],
      "authorship_tag": "ABX9TyP0tQ6XiSuDMermVOB3XcqV",
      "include_colab_link": true
    },
    "kernelspec": {
      "name": "python3",
      "display_name": "Python 3"
    },
    "language_info": {
      "name": "python"
    }
  },
  "cells": [
    {
      "cell_type": "markdown",
      "metadata": {
        "id": "view-in-github",
        "colab_type": "text"
      },
      "source": [
        "<a href=\"https://colab.research.google.com/github/SarkarPriyanshu/Data-Structures/blob/main/LinkedList.ipynb\" target=\"_parent\"><img src=\"https://colab.research.google.com/assets/colab-badge.svg\" alt=\"Open In Colab\"/></a>"
      ]
    },
    {
      "cell_type": "code",
      "source": [
        "# Node of linked list\n",
        "class Node(object):\n",
        "  def __init__(self,value):\n",
        "    self.value = value\n",
        "    self.next = None"
      ],
      "metadata": {
        "id": "XclobcGIirI9"
      },
      "execution_count": 82,
      "outputs": []
    },
    {
      "cell_type": "code",
      "source": [
        "class LinkedList(object):\n",
        "  def __init__(self):\n",
        "    self.head = None\n",
        "  \n",
        "  # Add Node at the end\n",
        "  def append(self,new_element,position=None):\n",
        "      if self.head:\n",
        "        current = self.head\n",
        "        while current.next:\n",
        "                current = current.next\n",
        "        current.next = new_element\n",
        "      else:\n",
        "            self.head = new_element\n",
        "  \n",
        "  # Add node to start\n",
        "  def unshift(self,new_element):\n",
        "      current = self.head\n",
        "      self.head = new_element\n",
        "      self.head.next = current\n",
        "\n",
        "\n",
        "  # Add note after curtain node value\n",
        "  def appendAfter(self,new_element,value):\n",
        "    current = self.head\n",
        "    while current.next:\n",
        "      if current.value == value:\n",
        "        break\n",
        "      else:  \n",
        "        current = current.next   \n",
        "\n",
        "    temp_element,current.next = current.next,new_element\n",
        "    new_element.next = temp_element   \n",
        "  \n",
        "  # Add node before given node value\n",
        "  def appendBefore(self,new_element,value):\n",
        "    if self.head is None:\n",
        "      return None\n",
        "\n",
        "    if self.head.value == value:\n",
        "      new_element.next = self.head\n",
        "      self.head = new_element\n",
        "\n",
        "    current = self.head\n",
        "    while current.next:\n",
        "      if current.next.value == value:\n",
        "        break\n",
        "      current = current.next\n",
        "    temp_element,current.next = current.next,new_element\n",
        "    new_element.next = temp_element        \n",
        "\n",
        "\n",
        "  # traverse through linked list\n",
        "  def traverseLinkedList(self):\n",
        "    current = self.head\n",
        "    while current is not None:\n",
        "      print(f'({current.value})',end=' --------> ')\n",
        "      current = current.next\n",
        "  \n",
        "  # get position node in linked list\n",
        "  def getPosition(self,position):\n",
        "    __position = 0 if self.head is None else 1\n",
        "    current = self.head\n",
        "    while current is not None:\n",
        "      if __position == position:\n",
        "        break\n",
        "      current = current.next\n",
        "      __position = __position + 1  \n",
        "    return current"
      ],
      "metadata": {
        "id": "Cz3tJ-SWi4bj"
      },
      "execution_count": 244,
      "outputs": []
    },
    {
      "cell_type": "code",
      "source": [
        "n1 = Node(1)"
      ],
      "metadata": {
        "id": "f3Hh-AyGj4OC"
      },
      "execution_count": 245,
      "outputs": []
    },
    {
      "cell_type": "code",
      "source": [
        "n2 = Node(2)"
      ],
      "metadata": {
        "id": "roTuGhBBk-6y"
      },
      "execution_count": 246,
      "outputs": []
    },
    {
      "cell_type": "code",
      "source": [
        "n3 = Node(3)"
      ],
      "metadata": {
        "id": "5HPz8C18mwxx"
      },
      "execution_count": 247,
      "outputs": []
    },
    {
      "cell_type": "code",
      "source": [
        "l1 = LinkedList()"
      ],
      "metadata": {
        "id": "B2V9Wh58k3_i"
      },
      "execution_count": 248,
      "outputs": []
    },
    {
      "cell_type": "code",
      "source": [
        "l1.append(n1)"
      ],
      "metadata": {
        "id": "clP5ZZi0k7Mp"
      },
      "execution_count": 249,
      "outputs": []
    },
    {
      "cell_type": "code",
      "source": [
        "\n",
        "l1.append(n2)"
      ],
      "metadata": {
        "id": "LSXvwzktlBRq"
      },
      "execution_count": 250,
      "outputs": []
    },
    {
      "cell_type": "code",
      "source": [
        "l1.append(n3)"
      ],
      "metadata": {
        "id": "ViCUP9nlm0IH"
      },
      "execution_count": 251,
      "outputs": []
    },
    {
      "cell_type": "code",
      "source": [
        "l1.traverseLinkedList()"
      ],
      "metadata": {
        "colab": {
          "base_uri": "https://localhost:8080/"
        },
        "id": "9klUfveolDnX",
        "outputId": "a54e5e51-8a93-4132-99bf-e7508095ce5d"
      },
      "execution_count": 252,
      "outputs": [
        {
          "output_type": "stream",
          "name": "stdout",
          "text": [
            "(1) --------> (2) --------> (3) --------> "
          ]
        }
      ]
    },
    {
      "cell_type": "code",
      "source": [
        "n4 = Node(4)"
      ],
      "metadata": {
        "id": "JhsUkT_2m3mY"
      },
      "execution_count": 253,
      "outputs": []
    },
    {
      "cell_type": "code",
      "source": [
        "l1.unshift(n4)"
      ],
      "metadata": {
        "id": "jhMR9yhcynlv"
      },
      "execution_count": 254,
      "outputs": []
    },
    {
      "cell_type": "code",
      "source": [
        "l1.traverseLinkedList()"
      ],
      "metadata": {
        "colab": {
          "base_uri": "https://localhost:8080/"
        },
        "id": "bgzgTBsjyrCU",
        "outputId": "29735608-02fc-4f34-dca7-a141248ca4a9"
      },
      "execution_count": 255,
      "outputs": [
        {
          "output_type": "stream",
          "name": "stdout",
          "text": [
            "(4) --------> (1) --------> (2) --------> (3) --------> "
          ]
        }
      ]
    },
    {
      "cell_type": "code",
      "source": [
        "n5 = Node(5)"
      ],
      "metadata": {
        "id": "0DptrWZ1k95h"
      },
      "execution_count": 256,
      "outputs": []
    },
    {
      "cell_type": "code",
      "source": [],
      "metadata": {
        "id": "v3LMzt-UBZ4B"
      },
      "execution_count": 256,
      "outputs": []
    },
    {
      "cell_type": "code",
      "source": [
        "l1.appendBefore(n5,4)"
      ],
      "metadata": {
        "id": "AD7EZaiB7U0_"
      },
      "execution_count": 257,
      "outputs": []
    },
    {
      "cell_type": "code",
      "source": [
        "l1.traverseLinkedList()"
      ],
      "metadata": {
        "colab": {
          "base_uri": "https://localhost:8080/"
        },
        "id": "a83AicvB7bvy",
        "outputId": "79c42beb-cd7d-45c3-8ffb-8f338fdf723b"
      },
      "execution_count": 258,
      "outputs": [
        {
          "output_type": "stream",
          "name": "stdout",
          "text": [
            "(5) --------> (4) --------> (1) --------> (2) --------> (3) --------> "
          ]
        }
      ]
    },
    {
      "cell_type": "code",
      "source": [
        "n6 = Node(6)"
      ],
      "metadata": {
        "id": "Bg_lQPh-BbWv"
      },
      "execution_count": 259,
      "outputs": []
    },
    {
      "cell_type": "code",
      "source": [
        "l1.appendBefore(n6,3)"
      ],
      "metadata": {
        "id": "__6OQT2IBdDg"
      },
      "execution_count": 260,
      "outputs": []
    },
    {
      "cell_type": "code",
      "source": [
        "l1.traverseLinkedList()"
      ],
      "metadata": {
        "colab": {
          "base_uri": "https://localhost:8080/"
        },
        "id": "KPSYDvvrBi13",
        "outputId": "ebeb7215-7b62-40b1-f1e5-6ff8f78d1162"
      },
      "execution_count": 261,
      "outputs": [
        {
          "output_type": "stream",
          "name": "stdout",
          "text": [
            "(5) --------> (4) --------> (1) --------> (2) --------> (6) --------> (3) --------> "
          ]
        }
      ]
    }
  ]
}