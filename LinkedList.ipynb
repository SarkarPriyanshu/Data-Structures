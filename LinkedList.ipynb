{
  "nbformat": 4,
  "nbformat_minor": 0,
  "metadata": {
    "colab": {
      "provenance": [],
      "authorship_tag": "ABX9TyMbdjTNGGEdwHZNNni/I0O/",
      "include_colab_link": true
    },
    "kernelspec": {
      "name": "python3",
      "display_name": "Python 3"
    },
    "language_info": {
      "name": "python"
    }
  },
  "cells": [
    {
      "cell_type": "markdown",
      "metadata": {
        "id": "view-in-github",
        "colab_type": "text"
      },
      "source": [
        "<a href=\"https://colab.research.google.com/github/SarkarPriyanshu/Data-Structures/blob/main/LinkedList.ipynb\" target=\"_parent\"><img src=\"https://colab.research.google.com/assets/colab-badge.svg\" alt=\"Open In Colab\"/></a>"
      ]
    },
    {
      "cell_type": "code",
      "source": [
        "# Node of linked list\n",
        "class Node(object):\n",
        "  def __init__(self,value):\n",
        "    self.value = value\n",
        "    self.next = None"
      ],
      "metadata": {
        "id": "XclobcGIirI9"
      },
      "execution_count": 82,
      "outputs": []
    },
    {
      "cell_type": "code",
      "source": [
        "from threading import currentThread\n",
        "class LinkedList(object):\n",
        "  def __init__(self):\n",
        "    self.head = None\n",
        "  \n",
        "  # Add Node at the end\n",
        "  def append(self,new_element,position=None):\n",
        "      if self.head:\n",
        "        current = self.head\n",
        "        while current.next:\n",
        "                current = current.next\n",
        "        current.next = new_element\n",
        "      else:\n",
        "            self.head = new_element\n",
        "  \n",
        "  # Add node to start\n",
        "  def unshift(self,new_element):\n",
        "      current = self.head\n",
        "      self.head = new_element\n",
        "      self.head.next = current\n",
        "\n",
        "\n",
        "  # Add note after curtain node value\n",
        "  def appendAfter(self,new_element,value):\n",
        "    current = self.head\n",
        "    while current.next:\n",
        "      if current.value == value:\n",
        "        break\n",
        "      else:  \n",
        "        current = current.next   \n",
        "\n",
        "    temp_element,current.next = current.next,new_element\n",
        "    new_element.next = temp_element   \n",
        "  \n",
        "  # Add node before given node value\n",
        "  def appendBefore(self,new_element,value):\n",
        "    if self.head is None:\n",
        "      return None\n",
        "\n",
        "    if self.head.value == value:\n",
        "      new_element.next = self.head\n",
        "      self.head = new_element\n",
        "\n",
        "    current = self.head\n",
        "    while current.next:\n",
        "      if current.next.value == value:\n",
        "        break\n",
        "      current = current.next\n",
        "    temp_element,current.next = current.next,new_element\n",
        "    new_element.next = temp_element        \n",
        "\n",
        "\n",
        "  # traverse through linked list\n",
        "  def traverseLinkedList(self):\n",
        "    current = self.head\n",
        "    while current is not None:\n",
        "      print(f'({current.value})',end=' --------> ')\n",
        "      current = current.next\n",
        "\n",
        "  # Remove first Node from linkedlist based\n",
        "  def shift(self):\n",
        "     if self.head is None:\n",
        "       return Node\n",
        "     else:\n",
        "      self.head = self.head.next\n",
        "\n",
        "  # Remove lost Node from linkedlist based\n",
        "  def pop(self):\n",
        "     if self.head is None:\n",
        "       return Node\n",
        "     else:\n",
        "      current = self.head\n",
        "      while current.next:\n",
        "        if current.next.next == None:\n",
        "          break\n",
        "        current = current.next\n",
        "      current.next = None      \n",
        "\n",
        "\n",
        "  #Remove node using value\n",
        "  def removeNode(self,value):\n",
        "     if self.head is None:\n",
        "       return Node\n",
        "     \n",
        "     \n",
        "     current = self.head\n",
        "     if current.value == value:\n",
        "       self.shift()\n",
        "\n",
        "\n",
        "     while current.next:\n",
        "        if current.next.value == value:\n",
        "          break\n",
        "        current = current.next\n",
        "     current.next = current.next.next \n",
        "\n",
        "  # get position node in linked list\n",
        "  def getPosition(self,position):\n",
        "    __position = 0 if self.head is None else 1\n",
        "    current = self.head\n",
        "    while current is not None:\n",
        "      if __position == position:\n",
        "        break\n",
        "      current = current.next\n",
        "      __position = __position + 1  \n",
        "    return current"
      ],
      "metadata": {
        "id": "Cz3tJ-SWi4bj"
      },
      "execution_count": 285,
      "outputs": []
    },
    {
      "cell_type": "code",
      "source": [
        "n1 = Node(1)"
      ],
      "metadata": {
        "id": "f3Hh-AyGj4OC"
      },
      "execution_count": 286,
      "outputs": []
    },
    {
      "cell_type": "code",
      "source": [
        "n2 = Node(2)"
      ],
      "metadata": {
        "id": "roTuGhBBk-6y"
      },
      "execution_count": 287,
      "outputs": []
    },
    {
      "cell_type": "code",
      "source": [
        "n3 = Node(3)"
      ],
      "metadata": {
        "id": "5HPz8C18mwxx"
      },
      "execution_count": 288,
      "outputs": []
    },
    {
      "cell_type": "code",
      "source": [
        "l1 = LinkedList()"
      ],
      "metadata": {
        "id": "B2V9Wh58k3_i"
      },
      "execution_count": 289,
      "outputs": []
    },
    {
      "cell_type": "code",
      "source": [
        "l1.append(n1)"
      ],
      "metadata": {
        "id": "clP5ZZi0k7Mp"
      },
      "execution_count": 290,
      "outputs": []
    },
    {
      "cell_type": "code",
      "source": [
        "\n",
        "l1.append(n2)"
      ],
      "metadata": {
        "id": "LSXvwzktlBRq"
      },
      "execution_count": 291,
      "outputs": []
    },
    {
      "cell_type": "code",
      "source": [
        "l1.append(n3)"
      ],
      "metadata": {
        "id": "ViCUP9nlm0IH"
      },
      "execution_count": 292,
      "outputs": []
    },
    {
      "cell_type": "code",
      "source": [
        "l1.traverseLinkedList()"
      ],
      "metadata": {
        "colab": {
          "base_uri": "https://localhost:8080/"
        },
        "id": "9klUfveolDnX",
        "outputId": "579d84b6-9405-4034-f7a2-935a927988e6"
      },
      "execution_count": 293,
      "outputs": [
        {
          "output_type": "stream",
          "name": "stdout",
          "text": [
            "(1) --------> (2) --------> (3) --------> "
          ]
        }
      ]
    },
    {
      "cell_type": "code",
      "source": [
        "n4 = Node(4)"
      ],
      "metadata": {
        "id": "JhsUkT_2m3mY"
      },
      "execution_count": 294,
      "outputs": []
    },
    {
      "cell_type": "code",
      "source": [
        "l1.unshift(n4)"
      ],
      "metadata": {
        "id": "jhMR9yhcynlv"
      },
      "execution_count": 295,
      "outputs": []
    },
    {
      "cell_type": "code",
      "source": [
        "l1.traverseLinkedList()"
      ],
      "metadata": {
        "colab": {
          "base_uri": "https://localhost:8080/"
        },
        "id": "bgzgTBsjyrCU",
        "outputId": "c34a729b-fa46-4898-8c11-ea4f169380eb"
      },
      "execution_count": 296,
      "outputs": [
        {
          "output_type": "stream",
          "name": "stdout",
          "text": [
            "(4) --------> (1) --------> (2) --------> (3) --------> "
          ]
        }
      ]
    },
    {
      "cell_type": "code",
      "source": [
        "n5 = Node(5)"
      ],
      "metadata": {
        "id": "0DptrWZ1k95h"
      },
      "execution_count": 297,
      "outputs": []
    },
    {
      "cell_type": "code",
      "source": [
        "l1.appendBefore(n5,4)"
      ],
      "metadata": {
        "id": "AD7EZaiB7U0_"
      },
      "execution_count": 298,
      "outputs": []
    },
    {
      "cell_type": "code",
      "source": [
        "l1.traverseLinkedList()"
      ],
      "metadata": {
        "colab": {
          "base_uri": "https://localhost:8080/"
        },
        "id": "a83AicvB7bvy",
        "outputId": "788469af-0bec-4c2c-cacf-f3961cbb38e3"
      },
      "execution_count": 299,
      "outputs": [
        {
          "output_type": "stream",
          "name": "stdout",
          "text": [
            "(5) --------> (4) --------> (1) --------> (2) --------> (3) --------> "
          ]
        }
      ]
    },
    {
      "cell_type": "code",
      "source": [
        "n6 = Node(6)"
      ],
      "metadata": {
        "id": "Bg_lQPh-BbWv"
      },
      "execution_count": 300,
      "outputs": []
    },
    {
      "cell_type": "code",
      "source": [
        "l1.appendBefore(n6,3)"
      ],
      "metadata": {
        "id": "__6OQT2IBdDg"
      },
      "execution_count": 301,
      "outputs": []
    },
    {
      "cell_type": "code",
      "source": [
        "l1.traverseLinkedList()"
      ],
      "metadata": {
        "colab": {
          "base_uri": "https://localhost:8080/"
        },
        "id": "KPSYDvvrBi13",
        "outputId": "2b11de8f-f53b-4253-b98f-6028be8f0e23"
      },
      "execution_count": 302,
      "outputs": [
        {
          "output_type": "stream",
          "name": "stdout",
          "text": [
            "(5) --------> (4) --------> (1) --------> (2) --------> (6) --------> (3) --------> "
          ]
        }
      ]
    },
    {
      "cell_type": "code",
      "source": [
        "l1.shift()"
      ],
      "metadata": {
        "id": "zxVDWKPFGlX9"
      },
      "execution_count": 303,
      "outputs": []
    },
    {
      "cell_type": "code",
      "source": [
        "l1.traverseLinkedList()"
      ],
      "metadata": {
        "colab": {
          "base_uri": "https://localhost:8080/"
        },
        "id": "jOx6CQhAGprz",
        "outputId": "b355d57b-0af2-4c0f-9e94-f37fb71ef90a"
      },
      "execution_count": 304,
      "outputs": [
        {
          "output_type": "stream",
          "name": "stdout",
          "text": [
            "(4) --------> (1) --------> (2) --------> (6) --------> (3) --------> "
          ]
        }
      ]
    },
    {
      "cell_type": "code",
      "source": [
        "l1.pop()"
      ],
      "metadata": {
        "id": "juofBte_Gr1z"
      },
      "execution_count": 305,
      "outputs": []
    },
    {
      "cell_type": "code",
      "source": [
        "l1.traverseLinkedList()"
      ],
      "metadata": {
        "colab": {
          "base_uri": "https://localhost:8080/"
        },
        "id": "tFMlV3ZIGuab",
        "outputId": "73ff0da4-1044-4734-8033-b9c358cd7c7f"
      },
      "execution_count": 306,
      "outputs": [
        {
          "output_type": "stream",
          "name": "stdout",
          "text": [
            "(4) --------> (1) --------> (2) --------> (6) --------> "
          ]
        }
      ]
    },
    {
      "cell_type": "code",
      "source": [
        "l1.removeNode(2)"
      ],
      "metadata": {
        "id": "ylfRL-ktINfw"
      },
      "execution_count": 307,
      "outputs": []
    },
    {
      "cell_type": "code",
      "source": [
        "l1.traverseLinkedList()"
      ],
      "metadata": {
        "colab": {
          "base_uri": "https://localhost:8080/"
        },
        "id": "wb46H8G6ISUP",
        "outputId": "f24c75cb-e07a-444a-8f09-648971c458d2"
      },
      "execution_count": 308,
      "outputs": [
        {
          "output_type": "stream",
          "name": "stdout",
          "text": [
            "(4) --------> (1) --------> (6) --------> "
          ]
        }
      ]
    }
  ]
}