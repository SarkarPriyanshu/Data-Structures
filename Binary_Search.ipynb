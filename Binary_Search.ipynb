{
  "nbformat": 4,
  "nbformat_minor": 0,
  "metadata": {
    "colab": {
      "provenance": [],
      "authorship_tag": "ABX9TyMsjIkPxBjj8jF8yK8JKxAS",
      "include_colab_link": true
    },
    "kernelspec": {
      "name": "python3",
      "display_name": "Python 3"
    },
    "language_info": {
      "name": "python"
    }
  },
  "cells": [
    {
      "cell_type": "markdown",
      "metadata": {
        "id": "view-in-github",
        "colab_type": "text"
      },
      "source": [
        "<a href=\"https://colab.research.google.com/github/SarkarPriyanshu/Data-Structures/blob/main/Binary_Search.ipynb\" target=\"_parent\"><img src=\"https://colab.research.google.com/assets/colab-badge.svg\" alt=\"Open In Colab\"/></a>"
      ]
    },
    {
      "cell_type": "code",
      "source": [
        "!pip install jovian\n",
        "from jovian.pythondsa import evaluate_test_cases"
      ],
      "metadata": {
        "colab": {
          "base_uri": "https://localhost:8080/",
          "height": 494
        },
        "id": "VpyrGC3B4ZhD",
        "outputId": "afea69d5-deb7-469f-8f49-0f147bdb5be6"
      },
      "execution_count": 1,
      "outputs": [
        {
          "output_type": "stream",
          "name": "stdout",
          "text": [
            "Looking in indexes: https://pypi.org/simple, https://us-python.pkg.dev/colab-wheels/public/simple/\n",
            "Collecting jovian\n",
            "  Downloading jovian-0.2.45-py2.py3-none-any.whl (68 kB)\n",
            "\u001b[2K     \u001b[90m━━━━━━━━━━━━━━━━━━━━━━━━━━━━━━━━━━━━━━━━\u001b[0m \u001b[32m68.6/68.6 KB\u001b[0m \u001b[31m2.4 MB/s\u001b[0m eta \u001b[36m0:00:00\u001b[0m\n",
            "\u001b[?25hRequirement already satisfied: requests in /usr/local/lib/python3.8/dist-packages (from jovian) (2.25.1)\n",
            "Collecting uuid\n",
            "  Downloading uuid-1.30.tar.gz (5.8 kB)\n",
            "  Preparing metadata (setup.py) ... \u001b[?25l\u001b[?25hdone\n",
            "Requirement already satisfied: click in /usr/local/lib/python3.8/dist-packages (from jovian) (7.1.2)\n",
            "Requirement already satisfied: pyyaml in /usr/local/lib/python3.8/dist-packages (from jovian) (6.0)\n",
            "Requirement already satisfied: chardet<5,>=3.0.2 in /usr/local/lib/python3.8/dist-packages (from requests->jovian) (4.0.0)\n",
            "Requirement already satisfied: certifi>=2017.4.17 in /usr/local/lib/python3.8/dist-packages (from requests->jovian) (2022.12.7)\n",
            "Requirement already satisfied: idna<3,>=2.5 in /usr/local/lib/python3.8/dist-packages (from requests->jovian) (2.10)\n",
            "Requirement already satisfied: urllib3<1.27,>=1.21.1 in /usr/local/lib/python3.8/dist-packages (from requests->jovian) (1.24.3)\n",
            "Building wheels for collected packages: uuid\n",
            "  Building wheel for uuid (setup.py) ... \u001b[?25l\u001b[?25hdone\n",
            "  Created wheel for uuid: filename=uuid-1.30-py3-none-any.whl size=6502 sha256=1d97e2d049f554a8c5a31bfa2ef1d092dd90f1f8b6aefd9ca226d7d00316d929\n",
            "  Stored in directory: /root/.cache/pip/wheels/1b/6c/cb/f9aae2bc97333c3d6e060826c1ee9e44e46306a178e5783505\n",
            "Successfully built uuid\n",
            "Installing collected packages: uuid, jovian\n",
            "Successfully installed jovian-0.2.45 uuid-1.30\n"
          ]
        },
        {
          "output_type": "display_data",
          "data": {
            "application/vnd.colab-display-data+json": {
              "pip_warning": {
                "packages": [
                  "uuid"
                ]
              }
            }
          },
          "metadata": {}
        }
      ]
    },
    {
      "cell_type": "code",
      "source": [
        "test1 = {\n",
        "    'input': {\n",
        "        'nums': [-2, -1, -1, 0 ,0 ,1 , 2, 3]\n",
        "    },\n",
        "    'output': 3\n",
        "}\n",
        "\n",
        "test2 = {\n",
        "    'input': {\n",
        "        'nums': [-2, -1 ,1 , 2, 3]\n",
        "    },\n",
        "    'output': 3\n",
        "}\n",
        "\n",
        "test3 = {\n",
        "    'input': {\n",
        "        'nums': []\n",
        "    },\n",
        "    'output': 0\n",
        "}\n",
        "\n",
        "test4 = {\n",
        "    'input': {\n",
        "        'nums': [-1,2]\n",
        "    },\n",
        "    'output': 1\n",
        "}\n",
        "\n",
        "tests = [test1,test2,test3,test4]"
      ],
      "metadata": {
        "id": "cPCLFJt84t4C"
      },
      "execution_count": 2,
      "outputs": []
    },
    {
      "cell_type": "markdown",
      "source": [
        "# Brute force solution"
      ],
      "metadata": {
        "id": "x2OdTDhY635h"
      }
    },
    {
      "cell_type": "code",
      "source": [
        "\n",
        "def count_max(nums):\n",
        "    positiveCounts = 0\n",
        "    negativeCounts = 0\n",
        "    \n",
        "    if len(nums) == 0: return 0\n",
        "    \n",
        "    for item in nums:\n",
        "      if item < 0 :\n",
        "        negativeCounts += 1\n",
        "      elif item > 0:\n",
        "        positiveCounts += 1\n",
        "    print(f'There are {positiveCounts} positive integers and {negativeCounts} negative integers. The maximum count among them is {positiveCounts if positiveCounts >= negativeCounts else negativeCounts}.')             \n",
        "    return positiveCounts if positiveCounts >= negativeCounts else negativeCounts\n"
      ],
      "metadata": {
        "id": "D2750mg65_0h"
      },
      "execution_count": 3,
      "outputs": []
    },
    {
      "cell_type": "code",
      "source": [
        "evaluate_test_cases(count_max, tests)"
      ],
      "metadata": {
        "colab": {
          "base_uri": "https://localhost:8080/"
        },
        "id": "pJ5_VZfZ5HmK",
        "outputId": "f0ca5cdf-0644-4bb1-e5e2-dd0bf386e156"
      },
      "execution_count": 4,
      "outputs": [
        {
          "output_type": "stream",
          "name": "stdout",
          "text": [
            "\n",
            "\u001b[1mTEST CASE #0\u001b[0m\n",
            "There are 3 positive integers and 3 negative integers. The maximum count among them is 3.\n",
            "\n",
            "Input:\n",
            "{'nums': [-2, -1, -1, 0, 0, 1, 2, 3]}\n",
            "\n",
            "Expected Output:\n",
            "3\n",
            "\n",
            "\n",
            "Actual Output:\n",
            "3\n",
            "\n",
            "Execution Time:\n",
            "0.04 ms\n",
            "\n",
            "Test Result:\n",
            "\u001b[92mPASSED\u001b[0m\n",
            "\n",
            "\n",
            "\u001b[1mTEST CASE #1\u001b[0m\n",
            "There are 3 positive integers and 2 negative integers. The maximum count among them is 3.\n",
            "\n",
            "Input:\n",
            "{'nums': [-2, -1, 1, 2, 3]}\n",
            "\n",
            "Expected Output:\n",
            "3\n",
            "\n",
            "\n",
            "Actual Output:\n",
            "3\n",
            "\n",
            "Execution Time:\n",
            "0.033 ms\n",
            "\n",
            "Test Result:\n",
            "\u001b[92mPASSED\u001b[0m\n",
            "\n",
            "\n",
            "\u001b[1mTEST CASE #2\u001b[0m\n",
            "\n",
            "Input:\n",
            "{'nums': []}\n",
            "\n",
            "Expected Output:\n",
            "0\n",
            "\n",
            "\n",
            "Actual Output:\n",
            "0\n",
            "\n",
            "Execution Time:\n",
            "0.002 ms\n",
            "\n",
            "Test Result:\n",
            "\u001b[92mPASSED\u001b[0m\n",
            "\n",
            "\n",
            "\u001b[1mTEST CASE #3\u001b[0m\n",
            "There are 1 positive integers and 1 negative integers. The maximum count among them is 1.\n",
            "\n",
            "Input:\n",
            "{'nums': [-1, 2]}\n",
            "\n",
            "Expected Output:\n",
            "1\n",
            "\n",
            "\n",
            "Actual Output:\n",
            "1\n",
            "\n",
            "Execution Time:\n",
            "30.371 ms\n",
            "\n",
            "Test Result:\n",
            "\u001b[92mPASSED\u001b[0m\n",
            "\n",
            "\n",
            "\u001b[1mSUMMARY\u001b[0m\n",
            "\n",
            "TOTAL: 4, \u001b[92mPASSED\u001b[0m: 4, \u001b[91mFAILED\u001b[0m: 0\n"
          ]
        },
        {
          "output_type": "execute_result",
          "data": {
            "text/plain": [
              "[(3, True, 0.04), (3, True, 0.033), (0, True, 0.002), (1, True, 30.371)]"
            ]
          },
          "metadata": {},
          "execution_count": 4
        }
      ]
    },
    {
      "cell_type": "markdown",
      "source": [
        "# Divide Search"
      ],
      "metadata": {
        "id": "2xeHF0O765q5"
      }
    },
    {
      "cell_type": "code",
      "source": [
        "# -2, -1, -1, 0, 0, 1, 2, 3\n",
        "def count_max_divide(nums):\n",
        "  start = 0\n",
        "  end = len(nums)-1\n",
        "  positivenumber = 0\n",
        "  negativenumber = 0\n",
        "\n",
        "  while start <= end:\n",
        "\n",
        "    if nums[start]<0:\n",
        "      negativenumber = negativenumber+1\n",
        "    \n",
        "    if nums[end]>0:\n",
        "      positivenumber = positivenumber+1\n",
        "\n",
        "    start = start + 1\n",
        "    end = end - 1\n",
        "  return positivenumber if positivenumber > negativenumber else negativenumber  \n",
        "\n",
        "count_max_divide([-2, -1, 0, 0, 0, 0, 1, 2, 3])"
      ],
      "metadata": {
        "colab": {
          "base_uri": "https://localhost:8080/"
        },
        "id": "v4n3VqNS6-nb",
        "outputId": "9d32d713-1616-45f7-b2f0-a12d84367770"
      },
      "execution_count": 5,
      "outputs": [
        {
          "output_type": "execute_result",
          "data": {
            "text/plain": [
              "3"
            ]
          },
          "metadata": {},
          "execution_count": 5
        }
      ]
    },
    {
      "cell_type": "code",
      "source": [
        "evaluate_test_cases(count_max_divide, tests)"
      ],
      "metadata": {
        "colab": {
          "base_uri": "https://localhost:8080/"
        },
        "id": "7QDremBOB04H",
        "outputId": "b00f2d9c-c309-4b41-dcc0-e699a7e919c8"
      },
      "execution_count": 6,
      "outputs": [
        {
          "output_type": "stream",
          "name": "stdout",
          "text": [
            "\n",
            "\u001b[1mTEST CASE #0\u001b[0m\n",
            "\n",
            "Input:\n",
            "{'nums': [-2, -1, -1, 0, 0, 1, 2, 3]}\n",
            "\n",
            "Expected Output:\n",
            "3\n",
            "\n",
            "\n",
            "Actual Output:\n",
            "3\n",
            "\n",
            "Execution Time:\n",
            "0.007 ms\n",
            "\n",
            "Test Result:\n",
            "\u001b[92mPASSED\u001b[0m\n",
            "\n",
            "\n",
            "\u001b[1mTEST CASE #1\u001b[0m\n",
            "\n",
            "Input:\n",
            "{'nums': [-2, -1, 1, 2, 3]}\n",
            "\n",
            "Expected Output:\n",
            "3\n",
            "\n",
            "\n",
            "Actual Output:\n",
            "3\n",
            "\n",
            "Execution Time:\n",
            "0.005 ms\n",
            "\n",
            "Test Result:\n",
            "\u001b[92mPASSED\u001b[0m\n",
            "\n",
            "\n",
            "\u001b[1mTEST CASE #2\u001b[0m\n",
            "\n",
            "Input:\n",
            "{'nums': []}\n",
            "\n",
            "Expected Output:\n",
            "0\n",
            "\n",
            "\n",
            "Actual Output:\n",
            "0\n",
            "\n",
            "Execution Time:\n",
            "0.003 ms\n",
            "\n",
            "Test Result:\n",
            "\u001b[92mPASSED\u001b[0m\n",
            "\n",
            "\n",
            "\u001b[1mTEST CASE #3\u001b[0m\n",
            "\n",
            "Input:\n",
            "{'nums': [-1, 2]}\n",
            "\n",
            "Expected Output:\n",
            "1\n",
            "\n",
            "\n",
            "Actual Output:\n",
            "1\n",
            "\n",
            "Execution Time:\n",
            "0.004 ms\n",
            "\n",
            "Test Result:\n",
            "\u001b[92mPASSED\u001b[0m\n",
            "\n",
            "\n",
            "\u001b[1mSUMMARY\u001b[0m\n",
            "\n",
            "TOTAL: 4, \u001b[92mPASSED\u001b[0m: 4, \u001b[91mFAILED\u001b[0m: 0\n"
          ]
        },
        {
          "output_type": "execute_result",
          "data": {
            "text/plain": [
              "[(3, True, 0.007), (3, True, 0.005), (0, True, 0.003), (1, True, 0.004)]"
            ]
          },
          "metadata": {},
          "execution_count": 6
        }
      ]
    },
    {
      "cell_type": "markdown",
      "source": [
        "# Binary search"
      ],
      "metadata": {
        "id": "1BIsz3fIF7Wc"
      }
    },
    {
      "cell_type": "code",
      "source": [
        "# -2, -1, -1, 0, 0, 1, 2, 3\n",
        "def count_max_binary(nums):\n",
        "  if len(nums) == 0: return 0\n",
        "  mid = len(nums)//2\n",
        "  zero_counts = 1 if nums[mid] == 0 else 0\n",
        "  left = mid - 1\n",
        "  right = mid + 1\n",
        "\n",
        "  while left>=0 or right<=len(nums)-1:\n",
        "        if nums[left] == 0:\n",
        "            zero_counts = zero_counts + 1\n",
        "        elif nums[left] < 0:\n",
        "            break\n",
        "\n",
        "        if nums[right] == 0:\n",
        "            zero_counts = zero_counts + 1\n",
        "        elif nums[right] > 0:\n",
        "            break\n",
        "\n",
        "        left = left - 1\n",
        "        right = right + 1   \n",
        "\n",
        "\n",
        "\n",
        "  return left if left > len(nums)-right else len(nums)-right       \n",
        "\n",
        "count_max_binary([-2, -1, 0, 0, 0, 0, 1, 2, 3])"
      ],
      "metadata": {
        "colab": {
          "base_uri": "https://localhost:8080/"
        },
        "id": "6tCAqSUEF6Ns",
        "outputId": "c5c0de7e-4c6d-4bb9-9465-8a13fca56921"
      },
      "execution_count": 7,
      "outputs": [
        {
          "output_type": "execute_result",
          "data": {
            "text/plain": [
              "3"
            ]
          },
          "metadata": {},
          "execution_count": 7
        }
      ]
    },
    {
      "cell_type": "code",
      "source": [
        "evaluate_test_cases(count_max_binary, tests)"
      ],
      "metadata": {
        "colab": {
          "base_uri": "https://localhost:8080/"
        },
        "id": "qx2S9QWKJ85R",
        "outputId": "3cd76be4-9e06-4c05-a90d-041d44feaefc"
      },
      "execution_count": 8,
      "outputs": [
        {
          "output_type": "stream",
          "name": "stdout",
          "text": [
            "\n",
            "\u001b[1mTEST CASE #0\u001b[0m\n",
            "\n",
            "Input:\n",
            "{'nums': [-2, -1, -1, 0, 0, 1, 2, 3]}\n",
            "\n",
            "Expected Output:\n",
            "3\n",
            "\n",
            "\n",
            "Actual Output:\n",
            "3\n",
            "\n",
            "Execution Time:\n",
            "0.008 ms\n",
            "\n",
            "Test Result:\n",
            "\u001b[92mPASSED\u001b[0m\n",
            "\n",
            "\n",
            "\u001b[1mTEST CASE #1\u001b[0m\n",
            "\n",
            "Input:\n",
            "{'nums': [-2, -1, 1, 2, 3]}\n",
            "\n",
            "Expected Output:\n",
            "3\n",
            "\n",
            "\n",
            "Actual Output:\n",
            "2\n",
            "\n",
            "Execution Time:\n",
            "0.009 ms\n",
            "\n",
            "Test Result:\n",
            "\u001b[91mFAILED\u001b[0m\n",
            "\n",
            "\n",
            "\u001b[1mTEST CASE #2\u001b[0m\n",
            "\n",
            "Input:\n",
            "{'nums': []}\n",
            "\n",
            "Expected Output:\n",
            "0\n",
            "\n",
            "\n",
            "Actual Output:\n",
            "0\n",
            "\n",
            "Execution Time:\n",
            "0.004 ms\n",
            "\n",
            "Test Result:\n",
            "\u001b[92mPASSED\u001b[0m\n",
            "\n",
            "\n",
            "\u001b[1mTEST CASE #3\u001b[0m\n",
            "\n",
            "Input:\n",
            "{'nums': [-1, 2]}\n",
            "\n",
            "Expected Output:\n",
            "1\n",
            "\n",
            "\n",
            "Actual Output:\n",
            "0\n",
            "\n",
            "Execution Time:\n",
            "0.004 ms\n",
            "\n",
            "Test Result:\n",
            "\u001b[91mFAILED\u001b[0m\n",
            "\n",
            "\n",
            "\u001b[1mSUMMARY\u001b[0m\n",
            "\n",
            "TOTAL: 4, \u001b[92mPASSED\u001b[0m: 2, \u001b[91mFAILED\u001b[0m: 2\n"
          ]
        },
        {
          "output_type": "execute_result",
          "data": {
            "text/plain": [
              "[(3, True, 0.008), (2, False, 0.009), (0, True, 0.004), (0, False, 0.004)]"
            ]
          },
          "metadata": {},
          "execution_count": 8
        }
      ]
    },
    {
      "cell_type": "code",
      "source": [
        "def descendingBinarySearch(arr,value):\n",
        "  start = 0\n",
        "  last = len(arr)-1\n",
        "\n",
        "  while(start<=last):\n",
        "    mid = start + (last-start)//2\n",
        "    if arr[mid] == value:\n",
        "      return mid\n",
        "    elif arr[mid] > value:\n",
        "      start = mid + 1\n",
        "    else:\n",
        "      last = mid - 1   \n",
        "\n",
        "  return mid   \n",
        "descendingBinarySearch([12,10,9,8,6,5,3,2],3)  "
      ],
      "metadata": {
        "colab": {
          "base_uri": "https://localhost:8080/"
        },
        "id": "vA1OTwWc6Wvz",
        "outputId": "4cbabae4-f6d3-42dd-88f5-6072069c0995"
      },
      "execution_count": 9,
      "outputs": [
        {
          "output_type": "execute_result",
          "data": {
            "text/plain": [
              "6"
            ]
          },
          "metadata": {},
          "execution_count": 9
        }
      ]
    },
    {
      "cell_type": "markdown",
      "source": [
        "# Agnostic Binary Search"
      ],
      "metadata": {
        "id": "roaCen_tDxGL"
      }
    },
    {
      "cell_type": "code",
      "source": [
        "test1 = {\n",
        "    'input': {\n",
        "        'arr': [-2, -1, -1, 0 ,0 ,1 , 2, 3],\n",
        "        \"value\":2\n",
        "    },\n",
        "    'output': 6\n",
        "}\n",
        "\n",
        "test2 = {\n",
        "    'input': {\n",
        "        'arr': [8, 7 ,3 , 2, 1],\n",
        "        'value': 1\n",
        "\n",
        "    },\n",
        "    'output': 4\n",
        "}\n",
        "\n",
        "test3 = {\n",
        "    'input': {\n",
        "        'arr': [],\n",
        "        'value':5\n",
        "    },\n",
        "    'output': -1\n",
        "}\n",
        "\n",
        "test4 = {\n",
        "    'input': {\n",
        "        'arr': [-1,2,5],\n",
        "        'value':6\n",
        "    },\n",
        "    'output': 0\n",
        "}\n",
        "\n",
        "tests = [test1,test2,test3,test4]"
      ],
      "metadata": {
        "id": "amkUPPOBD00e"
      },
      "execution_count": 10,
      "outputs": []
    },
    {
      "cell_type": "code",
      "source": [
        "# [2,3,5,6,9,12,13]\n",
        "def agnosticBinarySearch(arr,value):\n",
        "  if len(arr) == 0: return -1\n",
        "  start = 0\n",
        "  last = len(arr)-1\n",
        "  mid = start + (last-start)//2\n",
        "  try:  \n",
        "    if arr[mid] > arr[mid-1] and arr[mid] < arr[mid+1]:\n",
        "      # ascrnding order\n",
        "      while(start<=last):\n",
        "        mid = start + (last-start)//2\n",
        "        if arr[mid] == value:\n",
        "          return mid\n",
        "        elif arr[mid] < value:\n",
        "          start = mid + 1\n",
        "        else:\n",
        "          last = mid - 1\n",
        "    elif arr[mid] < arr[mid-1] and arr[mid] > arr[mid+1]:\n",
        "      # descending order\n",
        "      while(start<=last):\n",
        "        mid = start + (last-start)//2\n",
        "        if arr[mid] == value:\n",
        "          return mid\n",
        "        elif arr[mid] > value:\n",
        "          start = mid + 1\n",
        "        else:\n",
        "          last = mid - 1\n",
        "\n",
        "  except Exception as e:\n",
        "     print(e)\n",
        "  else:\n",
        "    return mid    "
      ],
      "metadata": {
        "id": "FX--eOdv87Ln"
      },
      "execution_count": 11,
      "outputs": []
    },
    {
      "cell_type": "code",
      "source": [
        "evaluate_test_cases(agnosticBinarySearch, tests)"
      ],
      "metadata": {
        "colab": {
          "base_uri": "https://localhost:8080/"
        },
        "id": "RykXFoGlDoBn",
        "outputId": "591341ac-af17-42b6-bd3e-5b9b02a0ed96"
      },
      "execution_count": 12,
      "outputs": [
        {
          "output_type": "stream",
          "name": "stdout",
          "text": [
            "\n",
            "\u001b[1mTEST CASE #0\u001b[0m\n",
            "\n",
            "Input:\n",
            "{'arr': [-2, -1, -1, 0, 0, 1, 2, 3], 'value': 2}\n",
            "\n",
            "Expected Output:\n",
            "6\n",
            "\n",
            "\n",
            "Actual Output:\n",
            "3\n",
            "\n",
            "Execution Time:\n",
            "0.006 ms\n",
            "\n",
            "Test Result:\n",
            "\u001b[91mFAILED\u001b[0m\n",
            "\n",
            "\n",
            "\u001b[1mTEST CASE #1\u001b[0m\n",
            "\n",
            "Input:\n",
            "{'arr': [8, 7, 3, 2, 1], 'value': 1}\n",
            "\n",
            "Expected Output:\n",
            "4\n",
            "\n",
            "\n",
            "Actual Output:\n",
            "4\n",
            "\n",
            "Execution Time:\n",
            "0.007 ms\n",
            "\n",
            "Test Result:\n",
            "\u001b[92mPASSED\u001b[0m\n",
            "\n",
            "\n",
            "\u001b[1mTEST CASE #2\u001b[0m\n",
            "\n",
            "Input:\n",
            "{'arr': [], 'value': 5}\n",
            "\n",
            "Expected Output:\n",
            "-1\n",
            "\n",
            "\n",
            "Actual Output:\n",
            "-1\n",
            "\n",
            "Execution Time:\n",
            "0.003 ms\n",
            "\n",
            "Test Result:\n",
            "\u001b[92mPASSED\u001b[0m\n",
            "\n",
            "\n",
            "\u001b[1mTEST CASE #3\u001b[0m\n",
            "\n",
            "Input:\n",
            "{'arr': [-1, 2, 5], 'value': 6}\n",
            "\n",
            "Expected Output:\n",
            "0\n",
            "\n",
            "\n",
            "Actual Output:\n",
            "2\n",
            "\n",
            "Execution Time:\n",
            "0.007 ms\n",
            "\n",
            "Test Result:\n",
            "\u001b[91mFAILED\u001b[0m\n",
            "\n",
            "\n",
            "\u001b[1mSUMMARY\u001b[0m\n",
            "\n",
            "TOTAL: 4, \u001b[92mPASSED\u001b[0m: 2, \u001b[91mFAILED\u001b[0m: 2\n"
          ]
        },
        {
          "output_type": "execute_result",
          "data": {
            "text/plain": [
              "[(3, False, 0.006), (4, True, 0.007), (-1, True, 0.003), (2, False, 0.007)]"
            ]
          },
          "metadata": {},
          "execution_count": 12
        }
      ]
    },
    {
      "cell_type": "markdown",
      "source": [
        "# First Occurance in an Array"
      ],
      "metadata": {
        "id": "n3rx8dItDbDs"
      }
    },
    {
      "cell_type": "code",
      "source": [
        "test1 = {\n",
        "    'input': {\n",
        "        'arr': [0,2,6,10,10,10,15,21],\n",
        "        \"value\":10\n",
        "    },\n",
        "    'output': 3\n",
        "}\n",
        "\n",
        "test2 = {\n",
        "    'input': {\n",
        "        'arr': [1,2,2,2,2,5,5,8,9],\n",
        "        'value': 5\n",
        "\n",
        "    },\n",
        "    'output': 5\n",
        "}\n",
        "\n",
        "test3 = {\n",
        "    'input': {\n",
        "        'arr': [],\n",
        "        'value':5\n",
        "    },\n",
        "    'output': -1\n",
        "}\n",
        "\n",
        "test4 = {\n",
        "    'input': {\n",
        "        'arr': [-1,2,5],\n",
        "        'value':6\n",
        "    },\n",
        "    'output': 0\n",
        "}\n",
        "\n",
        "tests = [test1,test2,test3,test4]"
      ],
      "metadata": {
        "id": "Ds0zdSVQDZ1u"
      },
      "execution_count": 13,
      "outputs": []
    },
    {
      "cell_type": "code",
      "source": [
        "# [0,2,6,10,10,10,15,21]\n",
        "def firstOccurance(arr,value):\n",
        "  if len(arr) == 0:return -1\n",
        "\n",
        "  start = 0\n",
        "  last = len(arr)-1\n",
        "  result = -1\n",
        "\n",
        "  while (start<=last):\n",
        "    mid = start + (last-start)//2\n",
        "    if arr[mid]==value:\n",
        "      result = mid\n",
        "      last = mid-1\n",
        "    elif arr[mid]<value:\n",
        "      start = mid + 1\n",
        "    else:\n",
        "      last = mid - 1      \n",
        "\n",
        "  return result"
      ],
      "metadata": {
        "id": "xP04R04AFi4m"
      },
      "execution_count": 14,
      "outputs": []
    },
    {
      "cell_type": "code",
      "source": [
        "evaluate_test_cases(firstOccurance, tests)"
      ],
      "metadata": {
        "colab": {
          "base_uri": "https://localhost:8080/"
        },
        "id": "L7bd0WA_G1r2",
        "outputId": "ca28effe-3df6-44a8-bbef-429e3dd3410b"
      },
      "execution_count": 15,
      "outputs": [
        {
          "output_type": "stream",
          "name": "stdout",
          "text": [
            "\n",
            "\u001b[1mTEST CASE #0\u001b[0m\n",
            "\n",
            "Input:\n",
            "{'arr': [0, 2, 6, 10, 10, 10, 15, 21], 'value': 10}\n",
            "\n",
            "Expected Output:\n",
            "3\n",
            "\n",
            "\n",
            "Actual Output:\n",
            "3\n",
            "\n",
            "Execution Time:\n",
            "0.012 ms\n",
            "\n",
            "Test Result:\n",
            "\u001b[92mPASSED\u001b[0m\n",
            "\n",
            "\n",
            "\u001b[1mTEST CASE #1\u001b[0m\n",
            "\n",
            "Input:\n",
            "{'arr': [1, 2, 2, 2, 2, 5, 5, 8, 9], 'value': 5}\n",
            "\n",
            "Expected Output:\n",
            "5\n",
            "\n",
            "\n",
            "Actual Output:\n",
            "5\n",
            "\n",
            "Execution Time:\n",
            "0.008 ms\n",
            "\n",
            "Test Result:\n",
            "\u001b[92mPASSED\u001b[0m\n",
            "\n",
            "\n",
            "\u001b[1mTEST CASE #2\u001b[0m\n",
            "\n",
            "Input:\n",
            "{'arr': [], 'value': 5}\n",
            "\n",
            "Expected Output:\n",
            "-1\n",
            "\n",
            "\n",
            "Actual Output:\n",
            "-1\n",
            "\n",
            "Execution Time:\n",
            "0.003 ms\n",
            "\n",
            "Test Result:\n",
            "\u001b[92mPASSED\u001b[0m\n",
            "\n",
            "\n",
            "\u001b[1mTEST CASE #3\u001b[0m\n",
            "\n",
            "Input:\n",
            "{'arr': [-1, 2, 5], 'value': 6}\n",
            "\n",
            "Expected Output:\n",
            "0\n",
            "\n",
            "\n",
            "Actual Output:\n",
            "-1\n",
            "\n",
            "Execution Time:\n",
            "0.006 ms\n",
            "\n",
            "Test Result:\n",
            "\u001b[91mFAILED\u001b[0m\n",
            "\n",
            "\n",
            "\u001b[1mSUMMARY\u001b[0m\n",
            "\n",
            "TOTAL: 4, \u001b[92mPASSED\u001b[0m: 3, \u001b[91mFAILED\u001b[0m: 1\n"
          ]
        },
        {
          "output_type": "execute_result",
          "data": {
            "text/plain": [
              "[(3, True, 0.012), (5, True, 0.008), (-1, True, 0.003), (-1, False, 0.006)]"
            ]
          },
          "metadata": {},
          "execution_count": 15
        }
      ]
    },
    {
      "cell_type": "markdown",
      "source": [
        "# Last occurance"
      ],
      "metadata": {
        "id": "3YKY8nxNVK7s"
      }
    },
    {
      "cell_type": "code",
      "source": [
        "test1 = {\n",
        "    'input': {\n",
        "        'arr': [0,2,6,10,10,10,15,21],\n",
        "        \"value\":10\n",
        "    },\n",
        "    'output': 5\n",
        "}\n",
        "\n",
        "test2 = {\n",
        "    'input': {\n",
        "        'arr': [1,2,2,2,2,5,5,8,9],\n",
        "        'value': 2\n",
        "\n",
        "    },\n",
        "    'output': 4\n",
        "}\n",
        "\n",
        "test3 = {\n",
        "    'input': {\n",
        "        'arr': [],\n",
        "        'value':5\n",
        "    },\n",
        "    'output': -1\n",
        "}\n",
        "\n",
        "test4 = {\n",
        "    'input': {\n",
        "        'arr': [-1,2,5],\n",
        "        'value':6\n",
        "    },\n",
        "    'output': -1\n",
        "}\n",
        "\n",
        "tests = [test1,test2,test3,test4]"
      ],
      "metadata": {
        "id": "THgt3gx7V3ML"
      },
      "execution_count": 16,
      "outputs": []
    },
    {
      "cell_type": "code",
      "source": [
        "# [0,2,6,10,10,10,15,21]\n",
        "def lastOccurance(arr,value):\n",
        "  if len(arr) == 0:return -1\n",
        "\n",
        "  start = 0\n",
        "  last = len(arr)-1\n",
        "  result = -1\n",
        "\n",
        "  while (start<=last):\n",
        "    mid = start + (last-start)//2\n",
        "    if arr[mid]==value:\n",
        "      result = mid\n",
        "      start = mid+1\n",
        "    elif arr[mid]<value:\n",
        "      start = mid + 1\n",
        "    else:\n",
        "      last = mid - 1      \n",
        "\n",
        "  return result\n",
        "\n",
        "lastOccurance([0,2,6,10,10,10,15,21],10)  "
      ],
      "metadata": {
        "colab": {
          "base_uri": "https://localhost:8080/"
        },
        "id": "mqRlU7H0S2N2",
        "outputId": "05f4a5ca-5779-41ce-ad13-edaa6cd00b72"
      },
      "execution_count": 17,
      "outputs": [
        {
          "output_type": "execute_result",
          "data": {
            "text/plain": [
              "5"
            ]
          },
          "metadata": {},
          "execution_count": 17
        }
      ]
    },
    {
      "cell_type": "code",
      "source": [
        "evaluate_test_cases(lastOccurance, tests)"
      ],
      "metadata": {
        "colab": {
          "base_uri": "https://localhost:8080/"
        },
        "id": "pQQ6Q3ZNVo9-",
        "outputId": "0359d885-8b99-4fa9-9ed4-5d198570e683"
      },
      "execution_count": 18,
      "outputs": [
        {
          "output_type": "stream",
          "name": "stdout",
          "text": [
            "\n",
            "\u001b[1mTEST CASE #0\u001b[0m\n",
            "\n",
            "Input:\n",
            "{'arr': [0, 2, 6, 10, 10, 10, 15, 21], 'value': 10}\n",
            "\n",
            "Expected Output:\n",
            "5\n",
            "\n",
            "\n",
            "Actual Output:\n",
            "5\n",
            "\n",
            "Execution Time:\n",
            "0.009 ms\n",
            "\n",
            "Test Result:\n",
            "\u001b[92mPASSED\u001b[0m\n",
            "\n",
            "\n",
            "\u001b[1mTEST CASE #1\u001b[0m\n",
            "\n",
            "Input:\n",
            "{'arr': [1, 2, 2, 2, 2, 5, 5, 8, 9], 'value': 2}\n",
            "\n",
            "Expected Output:\n",
            "4\n",
            "\n",
            "\n",
            "Actual Output:\n",
            "4\n",
            "\n",
            "Execution Time:\n",
            "0.009 ms\n",
            "\n",
            "Test Result:\n",
            "\u001b[92mPASSED\u001b[0m\n",
            "\n",
            "\n",
            "\u001b[1mTEST CASE #2\u001b[0m\n",
            "\n",
            "Input:\n",
            "{'arr': [], 'value': 5}\n",
            "\n",
            "Expected Output:\n",
            "-1\n",
            "\n",
            "\n",
            "Actual Output:\n",
            "-1\n",
            "\n",
            "Execution Time:\n",
            "0.006 ms\n",
            "\n",
            "Test Result:\n",
            "\u001b[92mPASSED\u001b[0m\n",
            "\n",
            "\n",
            "\u001b[1mTEST CASE #3\u001b[0m\n",
            "\n",
            "Input:\n",
            "{'arr': [-1, 2, 5], 'value': 6}\n",
            "\n",
            "Expected Output:\n",
            "-1\n",
            "\n",
            "\n",
            "Actual Output:\n",
            "-1\n",
            "\n",
            "Execution Time:\n",
            "0.008 ms\n",
            "\n",
            "Test Result:\n",
            "\u001b[92mPASSED\u001b[0m\n",
            "\n",
            "\n",
            "\u001b[1mSUMMARY\u001b[0m\n",
            "\n",
            "TOTAL: 4, \u001b[92mPASSED\u001b[0m: 4, \u001b[91mFAILED\u001b[0m: 0\n"
          ]
        },
        {
          "output_type": "execute_result",
          "data": {
            "text/plain": [
              "[(5, True, 0.009), (4, True, 0.009), (-1, True, 0.006), (-1, True, 0.008)]"
            ]
          },
          "metadata": {},
          "execution_count": 18
        }
      ]
    },
    {
      "cell_type": "markdown",
      "source": [
        "# Number of time a value occur in sorted list"
      ],
      "metadata": {
        "id": "Ujf3THojWDE8"
      }
    },
    {
      "cell_type": "code",
      "source": [
        "test1 = {\n",
        "    'input': {\n",
        "        'arr': [0,2,6,10,10,10,15,21],\n",
        "        \"value\":10\n",
        "    },\n",
        "    'output': 3\n",
        "}\n",
        "\n",
        "test2 = {\n",
        "    'input': {\n",
        "        'arr': [1,2,2,2,2,2,5,5,8,9],\n",
        "        'value': 2\n",
        "\n",
        "    },\n",
        "    'output': 5\n",
        "}\n",
        "\n",
        "test3 = {\n",
        "    'input': {\n",
        "        'arr': [],\n",
        "        'value':5\n",
        "    },\n",
        "    'output': -1\n",
        "}\n",
        "\n",
        "test4 = {\n",
        "    'input': {\n",
        "        'arr': [-1,2,5],\n",
        "        'value':6\n",
        "    },\n",
        "    'output': -1\n",
        "}\n",
        "\n",
        "tests = [test1,test2,test3,test4]"
      ],
      "metadata": {
        "id": "jIT8Gnd2Wqv2"
      },
      "execution_count": 19,
      "outputs": []
    },
    {
      "cell_type": "code",
      "source": [
        "def valueCount(arr,value):\n",
        "  firstOccur = firstOccurance(arr,value)\n",
        "  lastOccur = lastOccurance(arr,value)\n",
        "  if (lastOccur == -1 and firstOccur == -1): return -1\n",
        "  return (lastOccur - firstOccur) + 1"
      ],
      "metadata": {
        "id": "4S9aSwoWWK18"
      },
      "execution_count": 20,
      "outputs": []
    },
    {
      "cell_type": "code",
      "source": [
        "evaluate_test_cases(valueCount, tests)"
      ],
      "metadata": {
        "colab": {
          "base_uri": "https://localhost:8080/"
        },
        "id": "2jME49pLWy1b",
        "outputId": "58aca311-0a4d-40d8-8568-ac0d4b6708de"
      },
      "execution_count": 21,
      "outputs": [
        {
          "output_type": "stream",
          "name": "stdout",
          "text": [
            "\n",
            "\u001b[1mTEST CASE #0\u001b[0m\n",
            "\n",
            "Input:\n",
            "{'arr': [0, 2, 6, 10, 10, 10, 15, 21], 'value': 10}\n",
            "\n",
            "Expected Output:\n",
            "3\n",
            "\n",
            "\n",
            "Actual Output:\n",
            "3\n",
            "\n",
            "Execution Time:\n",
            "0.013 ms\n",
            "\n",
            "Test Result:\n",
            "\u001b[92mPASSED\u001b[0m\n",
            "\n",
            "\n",
            "\u001b[1mTEST CASE #1\u001b[0m\n",
            "\n",
            "Input:\n",
            "{'arr': [1, 2, 2, 2, 2, 2, 5, 5, 8, 9], 'value': 2}\n",
            "\n",
            "Expected Output:\n",
            "5\n",
            "\n",
            "\n",
            "Actual Output:\n",
            "5\n",
            "\n",
            "Execution Time:\n",
            "0.009 ms\n",
            "\n",
            "Test Result:\n",
            "\u001b[92mPASSED\u001b[0m\n",
            "\n",
            "\n",
            "\u001b[1mTEST CASE #2\u001b[0m\n",
            "\n",
            "Input:\n",
            "{'arr': [], 'value': 5}\n",
            "\n",
            "Expected Output:\n",
            "-1\n",
            "\n",
            "\n",
            "Actual Output:\n",
            "-1\n",
            "\n",
            "Execution Time:\n",
            "0.011 ms\n",
            "\n",
            "Test Result:\n",
            "\u001b[92mPASSED\u001b[0m\n",
            "\n",
            "\n",
            "\u001b[1mTEST CASE #3\u001b[0m\n",
            "\n",
            "Input:\n",
            "{'arr': [-1, 2, 5], 'value': 6}\n",
            "\n",
            "Expected Output:\n",
            "-1\n",
            "\n",
            "\n",
            "Actual Output:\n",
            "-1\n",
            "\n",
            "Execution Time:\n",
            "0.013 ms\n",
            "\n",
            "Test Result:\n",
            "\u001b[92mPASSED\u001b[0m\n",
            "\n",
            "\n",
            "\u001b[1mSUMMARY\u001b[0m\n",
            "\n",
            "TOTAL: 4, \u001b[92mPASSED\u001b[0m: 4, \u001b[91mFAILED\u001b[0m: 0\n"
          ]
        },
        {
          "output_type": "execute_result",
          "data": {
            "text/plain": [
              "[(3, True, 0.013), (5, True, 0.009), (-1, True, 0.011), (-1, True, 0.013)]"
            ]
          },
          "metadata": {},
          "execution_count": 21
        }
      ]
    },
    {
      "cell_type": "markdown",
      "source": [
        "# Rotated array Binary search"
      ],
      "metadata": {
        "id": "ZTnNx0uDCgpY"
      }
    },
    {
      "cell_type": "code",
      "source": [
        "test1 = {\n",
        "    'input': {\n",
        "        'arr': [12,15,17,20,22,2,3,5],\n",
        "    },\n",
        "    'output': 5\n",
        "}\n",
        "\n",
        "test2 = {\n",
        "    'input': {\n",
        "        'arr': [17,20,21,25,35,95,2],\n",
        "    },\n",
        "    'output': 6\n",
        "}\n",
        "\n",
        "test3 = {\n",
        "    'input': {\n",
        "        'arr': [],\n",
        "    },\n",
        "    'output': -1\n",
        "}\n",
        "\n",
        "test4 = {\n",
        "    'input': {\n",
        "        'arr': [1,2,3,4,5,6,7,8,9],\n",
        "    },\n",
        "    'output': 0\n",
        "}\n",
        "\n",
        "tests = [test1,test2,test3,test4]"
      ],
      "metadata": {
        "id": "u_Qh6_QIL44x"
      },
      "execution_count": 22,
      "outputs": []
    },
    {
      "cell_type": "code",
      "source": [
        "def rotatedBinarySearch(arr):\n",
        "    if len(arr) == 0:return -1\n",
        "    start = 0 \n",
        "    end = len(arr)-1\n",
        "    if arr[start] < arr[end] : return 0\n",
        "    while (start<=end):\n",
        "\n",
        "      mid = start + (end-start)//2\n",
        "      \n",
        "      # check if mid is smallest element in given array\n",
        "\n",
        "      prev = ((mid + len(arr)) - 1)%len(arr)\n",
        "      next = (mid+1)%len(arr) \n",
        "\n",
        "      if arr[mid] <= arr[prev] and arr[mid] <= arr[next]:\n",
        "        return mid\n",
        "      elif arr[start] <= arr[mid]:\n",
        "        start = mid + 1\n",
        "      elif arr[mid] <= arr[end]:\n",
        "        end = mid - 1\n",
        "\n",
        "    return mid      "
      ],
      "metadata": {
        "id": "o0ArYKsSCl9K"
      },
      "execution_count": 23,
      "outputs": []
    },
    {
      "cell_type": "code",
      "source": [
        "evaluate_test_cases(rotatedBinarySearch, tests)"
      ],
      "metadata": {
        "colab": {
          "base_uri": "https://localhost:8080/"
        },
        "id": "dZ9WlMrMMvbl",
        "outputId": "c9dfe1ef-bfa6-4a7b-be0d-cb9a046fcdef"
      },
      "execution_count": 24,
      "outputs": [
        {
          "output_type": "stream",
          "name": "stdout",
          "text": [
            "\n",
            "\u001b[1mTEST CASE #0\u001b[0m\n",
            "\n",
            "Input:\n",
            "{'arr': [12, 15, 17, 20, 22, 2, 3, 5]}\n",
            "\n",
            "Expected Output:\n",
            "5\n",
            "\n",
            "\n",
            "Actual Output:\n",
            "5\n",
            "\n",
            "Execution Time:\n",
            "0.01 ms\n",
            "\n",
            "Test Result:\n",
            "\u001b[92mPASSED\u001b[0m\n",
            "\n",
            "\n",
            "\u001b[1mTEST CASE #1\u001b[0m\n",
            "\n",
            "Input:\n",
            "{'arr': [17, 20, 21, 25, 35, 95, 2]}\n",
            "\n",
            "Expected Output:\n",
            "6\n",
            "\n",
            "\n",
            "Actual Output:\n",
            "6\n",
            "\n",
            "Execution Time:\n",
            "0.01 ms\n",
            "\n",
            "Test Result:\n",
            "\u001b[92mPASSED\u001b[0m\n",
            "\n",
            "\n",
            "\u001b[1mTEST CASE #2\u001b[0m\n",
            "\n",
            "Input:\n",
            "{'arr': []}\n",
            "\n",
            "Expected Output:\n",
            "-1\n",
            "\n",
            "\n",
            "Actual Output:\n",
            "-1\n",
            "\n",
            "Execution Time:\n",
            "0.004 ms\n",
            "\n",
            "Test Result:\n",
            "\u001b[92mPASSED\u001b[0m\n",
            "\n",
            "\n",
            "\u001b[1mTEST CASE #3\u001b[0m\n",
            "\n",
            "Input:\n",
            "{'arr': [1, 2, 3, 4, 5, 6, 7, 8, 9]}\n",
            "\n",
            "Expected Output:\n",
            "0\n",
            "\n",
            "\n",
            "Actual Output:\n",
            "0\n",
            "\n",
            "Execution Time:\n",
            "0.004 ms\n",
            "\n",
            "Test Result:\n",
            "\u001b[92mPASSED\u001b[0m\n",
            "\n",
            "\n",
            "\u001b[1mSUMMARY\u001b[0m\n",
            "\n",
            "TOTAL: 4, \u001b[92mPASSED\u001b[0m: 4, \u001b[91mFAILED\u001b[0m: 0\n"
          ]
        },
        {
          "output_type": "execute_result",
          "data": {
            "text/plain": [
              "[(5, True, 0.01), (6, True, 0.01), (-1, True, 0.004), (0, True, 0.004)]"
            ]
          },
          "metadata": {},
          "execution_count": 24
        }
      ]
    },
    {
      "cell_type": "markdown",
      "source": [
        "# Find element in rotated sorted array "
      ],
      "metadata": {
        "id": "OVkufsyKOsXw"
      }
    },
    {
      "cell_type": "code",
      "source": [
        "# def recursiveBinarySearch(arr,value):\n",
        "#   start = 0\n",
        "#   end = len(arr)-1\n",
        "#   if start < end:return -1\n",
        "#   mid = start + (end-start)//2\n",
        "#   if arr[mid] == value:\n",
        "#     return mid\n",
        "#   elif arr[mid] > value:\n",
        "#     recursiveBinarySearch(arr[start:mid],value)\n",
        "#   else:\n",
        "#     recursiveBinarySearch(arr[mid+1:len(arr)],value)                         "
      ],
      "metadata": {
        "id": "s3fe7gLaY4xR"
      },
      "execution_count": 25,
      "outputs": []
    },
    {
      "cell_type": "code",
      "source": [
        "# print(recursiveBinarySearch([1,5,8,12,17,21,25],25))"
      ],
      "metadata": {
        "id": "x1K0LGkAaBlw"
      },
      "execution_count": 26,
      "outputs": []
    },
    {
      "cell_type": "code",
      "source": [
        "def defaultBinarySearch(arr,value):\n",
        "  start = 0\n",
        "  end = len(arr)-1\n",
        "\n",
        "  while start <= end:\n",
        "    mid = start + (end-start)//2\n",
        "\n",
        "    if arr[mid] == value:\n",
        "      return mid\n",
        "    elif arr[mid] > value:\n",
        "      end = mid - 1\n",
        "    elif arr[mid] < value:\n",
        "      start = mid + 1\n",
        "    else:\n",
        "      return -1      \n",
        "\n",
        "\n",
        "def rotatedBinaryValueSearch(arr):\n",
        "  start = 0\n",
        "  end = len(arr) -1\n",
        "\n",
        "  while start <= end:\n",
        "    \n",
        "    mid = start + (end-start)//2\n",
        "    print('mid',mid,'start',start,'end',end)\n",
        "    \n",
        "    prev = ((mid + len(arr)) - 1)%len(arr)\n",
        "    next = (mid+1)%len(arr)\n",
        "\n",
        "\n",
        "    if arr[mid] <= arr[prev] and arr[mid] <= arr[next]:\n",
        "      return mid\n",
        "    elif arr[start] <= arr[mid]:\n",
        "      start = mid + 1\n",
        "    elif arr[mid] <= arr[end]:\n",
        "      start = mid - 1      \n",
        "  return mid\n",
        "rotatedBinaryValueSearch([12,15,17,19,26,85,2,6])\n",
        "         "
      ],
      "metadata": {
        "colab": {
          "base_uri": "https://localhost:8080/"
        },
        "id": "BZUM_HVbYw7S",
        "outputId": "9557dddc-4d9c-43ee-ca1a-17dd80aa7bdf"
      },
      "execution_count": 27,
      "outputs": [
        {
          "output_type": "stream",
          "name": "stdout",
          "text": [
            "mid 3 start 0 end 7\n",
            "mid 5 start 4 end 7\n",
            "mid 6 start 6 end 7\n"
          ]
        },
        {
          "output_type": "execute_result",
          "data": {
            "text/plain": [
              "6"
            ]
          },
          "metadata": {},
          "execution_count": 27
        }
      ]
    },
    {
      "cell_type": "markdown",
      "source": [
        "Binary Search on Nearly sorted array\n",
        "\n",
        "i = i\n",
        "or \n",
        "i = i-1\n",
        "or \n",
        "i = i + 1"
      ],
      "metadata": {
        "id": "FQvFEWICWn8g"
      }
    },
    {
      "cell_type": "code",
      "source": [
        "arr = [5,10,30,20,40,50,70,60]"
      ],
      "metadata": {
        "id": "1XIsGeeAWm3c"
      },
      "execution_count": 28,
      "outputs": []
    },
    {
      "cell_type": "code",
      "source": [
        "def binarySearchNearySorted(arr,value):\n",
        "  start = 0\n",
        "  end = len(arr)-1\n",
        "  while start <= end:\n",
        "    mid = start + (end-start)//2\n",
        "    if arr[mid] == value or (mid-1 >= 0 and arr[mid-1] == value) or (mid+1 <= len(arr)-1 and arr[mid+1]==value):\n",
        "       return mid if arr[mid] == value else  mid+1 if arr[mid+1] == value else mid-1 if arr[mid-1] == value else -1\n",
        "    elif arr[mid] >= value:\n",
        "      end = mid -1\n",
        "    elif arr[mid] <= value:\n",
        "      start = mid +1 \n",
        "    else:\n",
        "      return -1\n",
        "  return -1               "
      ],
      "metadata": {
        "id": "PuX9a-SYWwY4"
      },
      "execution_count": 29,
      "outputs": []
    },
    {
      "cell_type": "code",
      "source": [
        "binarySearchNearySorted(arr,70)"
      ],
      "metadata": {
        "colab": {
          "base_uri": "https://localhost:8080/"
        },
        "id": "KxwPDurEYG_i",
        "outputId": "9064faea-5bf3-4c04-de70-5aeee55e7643"
      },
      "execution_count": 30,
      "outputs": [
        {
          "output_type": "execute_result",
          "data": {
            "text/plain": [
              "6"
            ]
          },
          "metadata": {},
          "execution_count": 30
        }
      ]
    },
    {
      "cell_type": "markdown",
      "source": [
        "Binary search on sorted array for floor of an element\n",
        "\n",
        "either equal to value or largest of all the smaller candidates of that value"
      ],
      "metadata": {
        "id": "uRDawjdVbN7z"
      }
    },
    {
      "cell_type": "code",
      "source": [
        "arr = [2,3,4,6,7,9,12,14,18,20]"
      ],
      "metadata": {
        "id": "wpCnHef4bko6"
      },
      "execution_count": 31,
      "outputs": []
    },
    {
      "cell_type": "code",
      "source": [
        "def binarySearchFloor(arr,value):\n",
        "  start = 0\n",
        "  end = len(arr)-1\n",
        "  floor = 0\n",
        "\n",
        "  while start <= end:\n",
        "    mid = start + (end-start)//2\n",
        "    if arr[mid]==value:\n",
        "      floor =  arr[mid] if arr[mid] == value else floor\n",
        "      return floor\n",
        "    elif arr[mid] >= value:\n",
        "      if arr[mid]<value:\n",
        "        if floor < arr[mid]:\n",
        "          floor = arr[mid]\n",
        "      end = mid - 1\n",
        "    elif arr[mid] <= value:\n",
        "      if arr[mid]<value:\n",
        "        if floor < arr[mid]:\n",
        "          floor = arr[mid]\n",
        "      start = mid + 1\n",
        "  return floor "
      ],
      "metadata": {
        "id": "ekffjICpbrES"
      },
      "execution_count": 32,
      "outputs": []
    },
    {
      "cell_type": "code",
      "source": [
        "binarySearchFloor(arr,19)"
      ],
      "metadata": {
        "colab": {
          "base_uri": "https://localhost:8080/"
        },
        "id": "et1lzR1HdoKr",
        "outputId": "eb6edb68-a4cc-4d4e-ed6a-b7c68d3ff136"
      },
      "execution_count": 33,
      "outputs": [
        {
          "output_type": "execute_result",
          "data": {
            "text/plain": [
              "18"
            ]
          },
          "metadata": {},
          "execution_count": 33
        }
      ]
    },
    {
      "cell_type": "markdown",
      "source": [
        "Binary search on sorted array for ciel of an element\n",
        "\n",
        "either equal to value or smallest of all the larger candidates of that value"
      ],
      "metadata": {
        "id": "nSI_5tJmD0dE"
      }
    },
    {
      "cell_type": "code",
      "source": [
        "arr =[1,5,6,9,12,15,18,21,22]"
      ],
      "metadata": {
        "id": "eqimq3XyECkQ"
      },
      "execution_count": 34,
      "outputs": []
    },
    {
      "cell_type": "code",
      "source": [
        "def binarySearchCeil(arr,value):\n",
        "  start = 0\n",
        "  end = len(arr)-1\n",
        "  ceil = 0\n",
        "\n",
        "  while start<=end:\n",
        "    mid = start + (end-start)//2\n",
        "    if arr[mid] == value:\n",
        "      ceil = arr[mid] if arr[mid] == value else ceil\n",
        "      return ceil\n",
        "    elif arr[mid] >= value:\n",
        "      if arr[mid] >= value:\n",
        "        if arr[mid] >= ceil:\n",
        "          ceil= arr[mid]\n",
        "      end = mid-1\n",
        "    elif arr[mid] <= value:\n",
        "      start = mid + 1\n",
        "\n",
        "  return ceil\n"
      ],
      "metadata": {
        "id": "efeN8U8LD8OB"
      },
      "execution_count": 60,
      "outputs": []
    },
    {
      "cell_type": "code",
      "source": [
        "binarySearchCeil(arr,19)"
      ],
      "metadata": {
        "colab": {
          "base_uri": "https://localhost:8080/"
        },
        "id": "QLolD9tEFJDC",
        "outputId": "0a5a4b39-b43c-45ed-df3e-2094557f0c07"
      },
      "execution_count": 59,
      "outputs": [
        {
          "output_type": "execute_result",
          "data": {
            "text/plain": [
              "0"
            ]
          },
          "metadata": {},
          "execution_count": 59
        }
      ]
    }
  ]
}